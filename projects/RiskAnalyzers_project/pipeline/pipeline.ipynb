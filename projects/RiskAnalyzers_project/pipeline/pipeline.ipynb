{
 "cells": [
  {
   "cell_type": "markdown",
   "metadata": {},
   "source": [
    "## Libraries"
   ]
  },
  {
   "cell_type": "code",
   "execution_count": 7,
   "metadata": {},
   "outputs": [],
   "source": [
    "from azure.ai.ml import MLClient\n",
    "from azure.identity import DefaultAzureCredential, InteractiveBrowserCredential\n",
    "from azure.ai.ml.dsl import pipeline\n",
    "from azure.ai.ml import Input,Output, automl, command\n",
    "from azure.ai.ml.constants import AssetTypes"
   ]
  },
  {
   "cell_type": "markdown",
   "metadata": {},
   "source": [
    "## Login Azure"
   ]
  },
  {
   "cell_type": "code",
   "execution_count": 2,
   "metadata": {},
   "outputs": [],
   "source": [
    "try:\n",
    "    credential = DefaultAzureCredential()\n",
    "    # Check if given credential can get token successfully.\n",
    "    credential.get_token(\"https://management.azure.com/.default\")\n",
    "except Exception as ex:\n",
    "    # Fall back to InteractiveBrowserCredential in case DefaultAzureCredential not work\n",
    "    credential = InteractiveBrowserCredential()"
   ]
  },
  {
   "cell_type": "markdown",
   "metadata": {},
   "source": [
    "## Conection instance"
   ]
  },
  {
   "cell_type": "code",
   "execution_count": 3,
   "metadata": {},
   "outputs": [
    {
     "name": "stderr",
     "output_type": "stream",
     "text": [
      "Found the config file in: .\\config.json\n"
     ]
    }
   ],
   "source": [
    "# Get a handle to workspace\n",
    "ml_client = MLClient.from_config(credential=credential)"
   ]
  },
  {
   "cell_type": "markdown",
   "metadata": {},
   "source": [
    "## Automate machine learning pipeline\n",
    "\n",
    "- Tested Models:\n",
    "    - Logistic regression\n",
    "    - Light gbm\n",
    "    - Random forest"
   ]
  },
  {
   "cell_type": "code",
   "execution_count": 19,
   "metadata": {},
   "outputs": [],
   "source": [
    "# Define pipeline\n",
    "@pipeline(\n",
    "    description=\"AutoML Classification Pipeline\",\n",
    "    )\n",
    "def automl_classification(\n",
    "    classification_train_data,\n",
    "    classification_validation_data\n",
    "):\n",
    "    # define the automl classification task with automl function\n",
    "    classification_node = automl.classification(\n",
    "        training_data=classification_train_data,\n",
    "        validation_data=classification_validation_data,\n",
    "        target_column_name=\"default\",\n",
    "        primary_metric=\"accuracy\",\n",
    "        # currently need to specify outputs \"mlflow_model\" explictly to reference it in following nodes \n",
    "        outputs={\"best_model\": Output(type=\"mlflow_model\")},\n",
    "    )\n",
    "    # set limits and training\n",
    "    classification_node.set_limits(max_trials=1)\n",
    "    classification_node.set_training(\n",
    "        enable_stack_ensemble=False,\n",
    "        enable_vote_ensemble=False,\n",
    "        allowed_training_algorithms=['logistic_regression','light_gbm','random_forest']\n",
    "    )\n",
    "\n",
    "    command_func = command(\n",
    "        inputs=dict(\n",
    "            automl_output=Input(type=\"mlflow_model\")\n",
    "        ),\n",
    "        command=\"ls ${{inputs.automl_output}}\",\n",
    "        environment=\"azureml:AzureML-sklearn-0.24-ubuntu18.04-py37-cpu@latest\"\n",
    "    )\n",
    "    show_output = command_func(automl_output=classification_node.outputs.best_model)"
   ]
  },
  {
   "cell_type": "markdown",
   "metadata": {},
   "source": [
    "## Train & Test location"
   ]
  },
  {
   "cell_type": "code",
   "execution_count": 21,
   "metadata": {},
   "outputs": [],
   "source": [
    "URI_TRAIN_PATH = \"YOUR_URI_PATH_TO_MLTABLE_IN_AZURE\"\n",
    "URI_TEST_PATH = \"YOUR_URI_PATH_TO_MLTABLE_IN_AZURE\""
   ]
  },
  {
   "cell_type": "markdown",
   "metadata": {},
   "source": [
    "## Submit & Execute Pipeline"
   ]
  },
  {
   "cell_type": "code",
   "execution_count": 22,
   "metadata": {},
   "outputs": [],
   "source": [
    "import logging\n",
    "try:\n",
    "    pipeline_job = automl_classification(\n",
    "        classification_train_data=Input(path=URI_TRAIN_PATH, type=AssetTypes.MLTABLE),\n",
    "        classification_validation_data=Input(path=URI_TEST_PATH, type=AssetTypes.MLTABLE),\n",
    "    )\n",
    "    \n",
    "    # Set pipeline level compute\n",
    "    pipeline_job.settings.default_compute = \"juan-risk\"\n",
    "\n",
    "    # Submit the pipeline job\n",
    "    returned_pipeline_job = ml_client.jobs.create_or_update(\n",
    "        pipeline_job,\n",
    "        experiment_name=\"project-codigo-facilito\"\n",
    "    )\n",
    "\n",
    "    logging.info(\"Pipeline job submitted successfully: %s\", returned_pipeline_job)\n",
    "except Exception as e:\n",
    "    logging.error(\"An error occurred while creating or updating the pipeline job: %s\", e)\n",
    "    raise"
   ]
  }
 ],
 "metadata": {
  "kernelspec": {
   "display_name": "sdkvenv",
   "language": "python",
   "name": "python3"
  },
  "language_info": {
   "codemirror_mode": {
    "name": "ipython",
    "version": 3
   },
   "file_extension": ".py",
   "mimetype": "text/x-python",
   "name": "python",
   "nbconvert_exporter": "python",
   "pygments_lexer": "ipython3",
   "version": "3.11.8"
  }
 },
 "nbformat": 4,
 "nbformat_minor": 2
}
